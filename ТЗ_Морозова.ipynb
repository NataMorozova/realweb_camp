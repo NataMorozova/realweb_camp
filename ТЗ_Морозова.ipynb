{
 "cells": [
  {
   "cell_type": "code",
   "execution_count": 1,
   "id": "27cbbc4d",
   "metadata": {},
   "outputs": [],
   "source": [
    "import pandas as pd\n",
    "import numpy as np\n",
    "import matplotlib.pyplot as plt\n",
    "import seaborn as sns\n",
    "from scipy import stats \n",
    "df = pd.read_csv('/Users/natalia/Downloads/summer_camp_data - summer_camp_data.csv', parse_dates=[0])"
   ]
  },
  {
   "cell_type": "code",
   "execution_count": 2,
   "id": "30b3feca",
   "metadata": {},
   "outputs": [
    {
     "data": {
      "text/html": [
       "<div>\n",
       "<style scoped>\n",
       "    .dataframe tbody tr th:only-of-type {\n",
       "        vertical-align: middle;\n",
       "    }\n",
       "\n",
       "    .dataframe tbody tr th {\n",
       "        vertical-align: top;\n",
       "    }\n",
       "\n",
       "    .dataframe thead th {\n",
       "        text-align: right;\n",
       "    }\n",
       "</style>\n",
       "<table border=\"1\" class=\"dataframe\">\n",
       "  <thead>\n",
       "    <tr style=\"text-align: right;\">\n",
       "      <th></th>\n",
       "      <th>date</th>\n",
       "      <th>source</th>\n",
       "      <th>medium</th>\n",
       "      <th>delivery_available</th>\n",
       "      <th>device_type</th>\n",
       "      <th>promo_activated</th>\n",
       "      <th>filter_used</th>\n",
       "      <th>pageviews</th>\n",
       "      <th>visits</th>\n",
       "      <th>productClick</th>\n",
       "      <th>addToCart</th>\n",
       "      <th>checkout</th>\n",
       "      <th>transactions</th>\n",
       "      <th>revenue</th>\n",
       "    </tr>\n",
       "  </thead>\n",
       "  <tbody>\n",
       "    <tr>\n",
       "      <th>0</th>\n",
       "      <td>2020-05-11</td>\n",
       "      <td>google</td>\n",
       "      <td>organic</td>\n",
       "      <td>Не определено</td>\n",
       "      <td>Десктоп</td>\n",
       "      <td>no</td>\n",
       "      <td>no</td>\n",
       "      <td>3120</td>\n",
       "      <td>1233</td>\n",
       "      <td>5240</td>\n",
       "      <td>1048</td>\n",
       "      <td>525</td>\n",
       "      <td>90</td>\n",
       "      <td>86649.0</td>\n",
       "    </tr>\n",
       "    <tr>\n",
       "      <th>1</th>\n",
       "      <td>2020-05-11</td>\n",
       "      <td>yandex</td>\n",
       "      <td>cpc</td>\n",
       "      <td>Не определено</td>\n",
       "      <td>Мобайл</td>\n",
       "      <td>yes</td>\n",
       "      <td>no</td>\n",
       "      <td>3302</td>\n",
       "      <td>544</td>\n",
       "      <td>9930</td>\n",
       "      <td>1984</td>\n",
       "      <td>1416</td>\n",
       "      <td>217</td>\n",
       "      <td>244478.0</td>\n",
       "    </tr>\n",
       "    <tr>\n",
       "      <th>2</th>\n",
       "      <td>2020-05-11</td>\n",
       "      <td>google</td>\n",
       "      <td>cpc</td>\n",
       "      <td>Не определено</td>\n",
       "      <td>Мобайл</td>\n",
       "      <td>no</td>\n",
       "      <td>no</td>\n",
       "      <td>2970</td>\n",
       "      <td>1450</td>\n",
       "      <td>5460</td>\n",
       "      <td>1090</td>\n",
       "      <td>599</td>\n",
       "      <td>100</td>\n",
       "      <td>105150.0</td>\n",
       "    </tr>\n",
       "  </tbody>\n",
       "</table>\n",
       "</div>"
      ],
      "text/plain": [
       "        date  source   medium delivery_available device_type promo_activated  \\\n",
       "0 2020-05-11  google  organic      Не определено     Десктоп              no   \n",
       "1 2020-05-11  yandex      cpc      Не определено      Мобайл             yes   \n",
       "2 2020-05-11  google      cpc      Не определено      Мобайл              no   \n",
       "\n",
       "  filter_used  pageviews  visits  productClick  addToCart  checkout  \\\n",
       "0          no       3120    1233          5240       1048       525   \n",
       "1          no       3302     544          9930       1984      1416   \n",
       "2          no       2970    1450          5460       1090       599   \n",
       "\n",
       "   transactions   revenue  \n",
       "0            90   86649.0  \n",
       "1           217  244478.0  \n",
       "2           100  105150.0  "
      ]
     },
     "execution_count": 2,
     "metadata": {},
     "output_type": "execute_result"
    }
   ],
   "source": [
    "df[:3]"
   ]
  },
  {
   "cell_type": "code",
   "execution_count": 3,
   "id": "906b9a30",
   "metadata": {},
   "outputs": [
    {
     "name": "stdout",
     "output_type": "stream",
     "text": [
      "-- Shape:\n",
      "(52721, 14)\n",
      "\n",
      "-- NaN values:\n",
      "date                  0\n",
      "source                0\n",
      "medium                0\n",
      "delivery_available    0\n",
      "device_type           0\n",
      "promo_activated       0\n",
      "filter_used           0\n",
      "pageviews             0\n",
      "visits                0\n",
      "productClick          0\n",
      "addToCart             0\n",
      "checkout              0\n",
      "transactions          0\n",
      "revenue               0\n",
      "dtype: int64\n",
      "\n",
      "-- dtypes:\n",
      "date                  datetime64[ns]\n",
      "source                        object\n",
      "medium                        object\n",
      "delivery_available            object\n",
      "device_type                   object\n",
      "promo_activated               object\n",
      "filter_used                   object\n",
      "pageviews                      int64\n",
      "visits                         int64\n",
      "productClick                   int64\n",
      "addToCart                      int64\n",
      "checkout                       int64\n",
      "transactions                   int64\n",
      "revenue                      float64\n",
      "dtype: object\n",
      "\n",
      "-- nuinque:\n",
      "date                    274\n",
      "source                   24\n",
      "medium                    6\n",
      "delivery_available        3\n",
      "device_type               3\n",
      "promo_activated           2\n",
      "filter_used               2\n",
      "pageviews              4324\n",
      "visits                 2205\n",
      "productClick           1373\n",
      "addToCart              1363\n",
      "checkout               2022\n",
      "transactions            497\n",
      "revenue               21242\n",
      "dtype: int64\n"
     ]
    }
   ],
   "source": [
    "print(\"-- Shape:\")\n",
    "print(df.shape)\n",
    "print(\"\\n-- NaN values:\")\n",
    "print(df.isna().sum()) # пропущенных значений нет \n",
    "print(\"\\n-- dtypes:\") # c датой уже разобрались\n",
    "print(df.dtypes)\n",
    "print(\"\\n-- nuinque:\")\n",
    "print(df.nunique())"
   ]
  },
  {
   "cell_type": "code",
   "execution_count": 4,
   "id": "6ce05e93",
   "metadata": {},
   "outputs": [
    {
     "data": {
      "text/plain": [
       "yandex           11928\n",
       "google           11793\n",
       "(direct)          5031\n",
       "admitad           4210\n",
       "eLama             3415\n",
       "cityads           2923\n",
       "other             2460\n",
       "newsletter        1680\n",
       "vk                1425\n",
       "promo             1178\n",
       "DuckDuckGo        1135\n",
       "facebook          1026\n",
       "co-promo           946\n",
       "bing               811\n",
       "actionpay          763\n",
       "opmcpa             545\n",
       "mytarget           540\n",
       "advertise          327\n",
       "instagram          301\n",
       "yandex_direct      109\n",
       "youtube             88\n",
       "sailplay            49\n",
       "baidu               19\n",
       "exponea             19\n",
       "Name: source, dtype: int64"
      ]
     },
     "execution_count": 4,
     "metadata": {},
     "output_type": "execute_result"
    }
   ],
   "source": [
    "# проверим нет ли повторных названий\n",
    "df.source.value_counts()"
   ]
  },
  {
   "cell_type": "code",
   "execution_count": 6,
   "id": "cf7301b0",
   "metadata": {},
   "outputs": [
    {
     "data": {
      "text/plain": [
       "Мобайл           24416\n",
       "Десктоп          22919\n",
       "Не определено     5386\n",
       "Name: device_type, dtype: int64"
      ]
     },
     "execution_count": 6,
     "metadata": {},
     "output_type": "execute_result"
    }
   ],
   "source": [
    "df.device_type.value_counts()"
   ]
  },
  {
   "cell_type": "code",
   "execution_count": null,
   "id": "4f20feec",
   "metadata": {},
   "outputs": [],
   "source": []
  },
  {
   "cell_type": "markdown",
   "id": "fff476ea",
   "metadata": {},
   "source": [
    "### Какой рекламный канал принем больше всего дохода за все время?"
   ]
  },
  {
   "cell_type": "code",
   "execution_count": 7,
   "id": "dbb80708",
   "metadata": {},
   "outputs": [
    {
     "data": {
      "text/html": [
       "<div>\n",
       "<style scoped>\n",
       "    .dataframe tbody tr th:only-of-type {\n",
       "        vertical-align: middle;\n",
       "    }\n",
       "\n",
       "    .dataframe tbody tr th {\n",
       "        vertical-align: top;\n",
       "    }\n",
       "\n",
       "    .dataframe thead th {\n",
       "        text-align: right;\n",
       "    }\n",
       "</style>\n",
       "<table border=\"1\" class=\"dataframe\">\n",
       "  <thead>\n",
       "    <tr style=\"text-align: right;\">\n",
       "      <th></th>\n",
       "      <th>source</th>\n",
       "      <th>revenue</th>\n",
       "    </tr>\n",
       "  </thead>\n",
       "  <tbody>\n",
       "    <tr>\n",
       "      <th>21</th>\n",
       "      <td>yandex</td>\n",
       "      <td>467299311.0</td>\n",
       "    </tr>\n",
       "  </tbody>\n",
       "</table>\n",
       "</div>"
      ],
      "text/plain": [
       "    source      revenue\n",
       "21  yandex  467299311.0"
      ]
     },
     "execution_count": 7,
     "metadata": {},
     "output_type": "execute_result"
    }
   ],
   "source": [
    "# группируем по источнику и суммируем выручку, выбираем максимальный\n",
    "max_revenue_souce = df.groupby('source') \\\n",
    "    .agg({'revenue':'sum'}) \\\n",
    "    .reset_index() \\\n",
    "    .sort_values('revenue', ascending = False)\n",
    "max_revenue_souce.head(1)"
   ]
  },
  {
   "cell_type": "markdown",
   "id": "8d2bf316",
   "metadata": {},
   "source": [
    "### Как изменился средний чек транзакции после введения коронавирусных ограничений? Как он изменился для пользователей, покупающих с промокодом и без? (параметр «promo_activated»)"
   ]
  },
  {
   "cell_type": "markdown",
   "id": "9edcc231",
   "metadata": {},
   "source": [
    "Гуглим когда начались ковидные ограничения: \"11 марта 2020 года Россия впервые начала серьёзно ограничивать авиасообщение с ЕС из-за пандемии COVID-19, разрешив летать в некоторые страны. С 30 марта 2020 года Россия полностью закрыла свои границы как для россиян, так и для иностранных граждан\". Также, посмотрим по графику когда были пики и падения и попробуем сопоставить информацию.  "
   ]
  },
  {
   "cell_type": "code",
   "execution_count": 36,
   "id": "fc12ba9c",
   "metadata": {},
   "outputs": [],
   "source": [
    "# df.date.min() -> 2020-01-01\n",
    "# df.date.max() -> 2020-09-30"
   ]
  },
  {
   "cell_type": "code",
   "execution_count": 9,
   "id": "0f4716d4",
   "metadata": {},
   "outputs": [
    {
     "data": {
      "text/html": [
       "<div>\n",
       "<style scoped>\n",
       "    .dataframe tbody tr th:only-of-type {\n",
       "        vertical-align: middle;\n",
       "    }\n",
       "\n",
       "    .dataframe tbody tr th {\n",
       "        vertical-align: top;\n",
       "    }\n",
       "\n",
       "    .dataframe thead th {\n",
       "        text-align: right;\n",
       "    }\n",
       "</style>\n",
       "<table border=\"1\" class=\"dataframe\">\n",
       "  <thead>\n",
       "    <tr style=\"text-align: right;\">\n",
       "      <th></th>\n",
       "      <th>date</th>\n",
       "      <th>source</th>\n",
       "      <th>medium</th>\n",
       "      <th>delivery_available</th>\n",
       "      <th>device_type</th>\n",
       "      <th>promo_activated</th>\n",
       "      <th>filter_used</th>\n",
       "      <th>pageviews</th>\n",
       "      <th>visits</th>\n",
       "      <th>productClick</th>\n",
       "      <th>addToCart</th>\n",
       "      <th>checkout</th>\n",
       "      <th>transactions</th>\n",
       "      <th>revenue</th>\n",
       "    </tr>\n",
       "  </thead>\n",
       "  <tbody>\n",
       "    <tr>\n",
       "      <th>20667</th>\n",
       "      <td>2020-09-25</td>\n",
       "      <td>google</td>\n",
       "      <td>cpc</td>\n",
       "      <td>Не определено</td>\n",
       "      <td>Не определено</td>\n",
       "      <td>yes</td>\n",
       "      <td>no</td>\n",
       "      <td>0</td>\n",
       "      <td>5</td>\n",
       "      <td>0</td>\n",
       "      <td>0</td>\n",
       "      <td>0</td>\n",
       "      <td>1</td>\n",
       "      <td>0.0</td>\n",
       "    </tr>\n",
       "    <tr>\n",
       "      <th>20771</th>\n",
       "      <td>2020-09-01</td>\n",
       "      <td>promo</td>\n",
       "      <td>email</td>\n",
       "      <td>Не определено</td>\n",
       "      <td>Десктоп</td>\n",
       "      <td>yes</td>\n",
       "      <td>no</td>\n",
       "      <td>16</td>\n",
       "      <td>3</td>\n",
       "      <td>0</td>\n",
       "      <td>0</td>\n",
       "      <td>3</td>\n",
       "      <td>1</td>\n",
       "      <td>0.0</td>\n",
       "    </tr>\n",
       "    <tr>\n",
       "      <th>21298</th>\n",
       "      <td>2020-08-12</td>\n",
       "      <td>yandex</td>\n",
       "      <td>organic</td>\n",
       "      <td>Доставки нет</td>\n",
       "      <td>Десктоп</td>\n",
       "      <td>yes</td>\n",
       "      <td>no</td>\n",
       "      <td>15</td>\n",
       "      <td>2</td>\n",
       "      <td>0</td>\n",
       "      <td>0</td>\n",
       "      <td>9</td>\n",
       "      <td>1</td>\n",
       "      <td>0.0</td>\n",
       "    </tr>\n",
       "  </tbody>\n",
       "</table>\n",
       "</div>"
      ],
      "text/plain": [
       "            date  source   medium delivery_available    device_type  \\\n",
       "20667 2020-09-25  google      cpc      Не определено  Не определено   \n",
       "20771 2020-09-01   promo    email      Не определено        Десктоп   \n",
       "21298 2020-08-12  yandex  organic       Доставки нет        Десктоп   \n",
       "\n",
       "      promo_activated filter_used  pageviews  visits  productClick  addToCart  \\\n",
       "20667             yes          no          0       5             0          0   \n",
       "20771             yes          no         16       3             0          0   \n",
       "21298             yes          no         15       2             0          0   \n",
       "\n",
       "       checkout  transactions  revenue  \n",
       "20667         0             1      0.0  \n",
       "20771         3             1      0.0  \n",
       "21298         9             1      0.0  "
      ]
     },
     "execution_count": 9,
     "metadata": {},
     "output_type": "execute_result"
    }
   ],
   "source": [
    "# проверим есть ли аномалии -> 21 строка с 0 выручкой, но транзакции произошли, \n",
    "# еще можно заметить что у всех кроме одного был активирован промокод -> возможно это был какой-то подарок\n",
    "# поэтому удалять их из дата-сета было бы не совсем разумно\n",
    "df.query('transactions == 0 & revenue != 0 or transactions != 0 & revenue == 0').head(3)"
   ]
  },
  {
   "cell_type": "code",
   "execution_count": 10,
   "id": "ae06f316",
   "metadata": {},
   "outputs": [],
   "source": [
    "# средняя выручка по дням\n",
    "mean_revenue = df.groupby(['date'])['revenue'].mean().reset_index()"
   ]
  },
  {
   "cell_type": "code",
   "execution_count": 38,
   "id": "72f686b8",
   "metadata": {},
   "outputs": [
    {
     "data": {
      "text/html": [
       "<div>\n",
       "<style scoped>\n",
       "    .dataframe tbody tr th:only-of-type {\n",
       "        vertical-align: middle;\n",
       "    }\n",
       "\n",
       "    .dataframe tbody tr th {\n",
       "        vertical-align: top;\n",
       "    }\n",
       "\n",
       "    .dataframe thead th {\n",
       "        text-align: right;\n",
       "    }\n",
       "</style>\n",
       "<table border=\"1\" class=\"dataframe\">\n",
       "  <thead>\n",
       "    <tr style=\"text-align: right;\">\n",
       "      <th></th>\n",
       "      <th>date</th>\n",
       "      <th>revenue</th>\n",
       "    </tr>\n",
       "  </thead>\n",
       "  <tbody>\n",
       "    <tr>\n",
       "      <th>0</th>\n",
       "      <td>2020-01-01</td>\n",
       "      <td>20632.555556</td>\n",
       "    </tr>\n",
       "    <tr>\n",
       "      <th>1</th>\n",
       "      <td>2020-01-02</td>\n",
       "      <td>26598.595628</td>\n",
       "    </tr>\n",
       "    <tr>\n",
       "      <th>2</th>\n",
       "      <td>2020-01-03</td>\n",
       "      <td>27354.989011</td>\n",
       "    </tr>\n",
       "    <tr>\n",
       "      <th>3</th>\n",
       "      <td>2020-01-04</td>\n",
       "      <td>27803.640625</td>\n",
       "    </tr>\n",
       "    <tr>\n",
       "      <th>4</th>\n",
       "      <td>2020-01-05</td>\n",
       "      <td>27753.910995</td>\n",
       "    </tr>\n",
       "  </tbody>\n",
       "</table>\n",
       "</div>"
      ],
      "text/plain": [
       "        date       revenue\n",
       "0 2020-01-01  20632.555556\n",
       "1 2020-01-02  26598.595628\n",
       "2 2020-01-03  27354.989011\n",
       "3 2020-01-04  27803.640625\n",
       "4 2020-01-05  27753.910995"
      ]
     },
     "execution_count": 38,
     "metadata": {},
     "output_type": "execute_result"
    }
   ],
   "source": [
    "mean_revenue.head()"
   ]
  },
  {
   "cell_type": "code",
   "execution_count": 39,
   "id": "0d3cde8e",
   "metadata": {},
   "outputs": [
    {
     "data": {
      "image/png": "[encoded data removed]",
      "text/plain": [
       "<Figure size 640x480 with 1 Axes>"
      ]
     },
     "metadata": {},
     "output_type": "display_data"
    }
   ],
   "source": [
    "# Создаем график\n",
    "plt.plot(mean_revenue.index, mean_revenue.values)\n",
    "plt.title('Средний чек по дням')\n",
    "plt.xlabel('День')\n",
    "plt.ylabel('Средний чек транзакции')\n",
    "plt.show()"
   ]
  },
  {
   "cell_type": "code",
   "execution_count": 41,
   "id": "31ca6458",
   "metadata": {},
   "outputs": [
    {
     "data": {
      "text/html": [
       "<div>\n",
       "<style scoped>\n",
       "    .dataframe tbody tr th:only-of-type {\n",
       "        vertical-align: middle;\n",
       "    }\n",
       "\n",
       "    .dataframe tbody tr th {\n",
       "        vertical-align: top;\n",
       "    }\n",
       "\n",
       "    .dataframe thead th {\n",
       "        text-align: right;\n",
       "    }\n",
       "</style>\n",
       "<table border=\"1\" class=\"dataframe\">\n",
       "  <thead>\n",
       "    <tr style=\"text-align: right;\">\n",
       "      <th></th>\n",
       "      <th>index</th>\n",
       "      <th>date</th>\n",
       "      <th>revenue</th>\n",
       "    </tr>\n",
       "  </thead>\n",
       "  <tbody>\n",
       "    <tr>\n",
       "      <th>0</th>\n",
       "      <td>67</td>\n",
       "      <td>2020-03-08</td>\n",
       "      <td>50800.174312</td>\n",
       "    </tr>\n",
       "    <tr>\n",
       "      <th>1</th>\n",
       "      <td>51</td>\n",
       "      <td>2020-02-21</td>\n",
       "      <td>50494.618357</td>\n",
       "    </tr>\n",
       "    <tr>\n",
       "      <th>2</th>\n",
       "      <td>44</td>\n",
       "      <td>2020-02-14</td>\n",
       "      <td>47753.235808</td>\n",
       "    </tr>\n",
       "  </tbody>\n",
       "</table>\n",
       "</div>"
      ],
      "text/plain": [
       "   index       date       revenue\n",
       "0     67 2020-03-08  50800.174312\n",
       "1     51 2020-02-21  50494.618357\n",
       "2     44 2020-02-14  47753.235808"
      ]
     },
     "execution_count": 41,
     "metadata": {},
     "output_type": "execute_result"
    }
   ],
   "source": [
    "mean_revenue.sort_values('revenue', ascending = False).reset_index().head(3)"
   ]
  },
  {
   "cell_type": "code",
   "execution_count": 42,
   "id": "aaaa6cb0",
   "metadata": {},
   "outputs": [
    {
     "data": {
      "text/html": [
       "<div>\n",
       "<style scoped>\n",
       "    .dataframe tbody tr th:only-of-type {\n",
       "        vertical-align: middle;\n",
       "    }\n",
       "\n",
       "    .dataframe tbody tr th {\n",
       "        vertical-align: top;\n",
       "    }\n",
       "\n",
       "    .dataframe thead th {\n",
       "        text-align: right;\n",
       "    }\n",
       "</style>\n",
       "<table border=\"1\" class=\"dataframe\">\n",
       "  <thead>\n",
       "    <tr style=\"text-align: right;\">\n",
       "      <th></th>\n",
       "      <th>index</th>\n",
       "      <th>date</th>\n",
       "      <th>revenue</th>\n",
       "    </tr>\n",
       "  </thead>\n",
       "  <tbody>\n",
       "    <tr>\n",
       "      <th>0</th>\n",
       "      <td>252</td>\n",
       "      <td>2020-09-09</td>\n",
       "      <td>15066.867021</td>\n",
       "    </tr>\n",
       "    <tr>\n",
       "      <th>1</th>\n",
       "      <td>271</td>\n",
       "      <td>2020-09-28</td>\n",
       "      <td>15422.106796</td>\n",
       "    </tr>\n",
       "    <tr>\n",
       "      <th>2</th>\n",
       "      <td>266</td>\n",
       "      <td>2020-09-23</td>\n",
       "      <td>15432.082051</td>\n",
       "    </tr>\n",
       "  </tbody>\n",
       "</table>\n",
       "</div>"
      ],
      "text/plain": [
       "   index       date       revenue\n",
       "0    252 2020-09-09  15066.867021\n",
       "1    271 2020-09-28  15422.106796\n",
       "2    266 2020-09-23  15432.082051"
      ]
     },
     "execution_count": 42,
     "metadata": {},
     "output_type": "execute_result"
    }
   ],
   "source": [
    "mean_revenue.sort_values('revenue', ascending = True).reset_index().head(3)"
   ]
  },
  {
   "cell_type": "markdown",
   "id": "7946c20e",
   "metadata": {},
   "source": [
    "Наблюдается пик выручки 8 марта, что скорее связано с праздником, также пики были и в феврале, сильных падений в марте не наблюдаются, так что оставновимся на 11 марта."
   ]
  },
  {
   "cell_type": "code",
   "execution_count": 40,
   "id": "60889d54",
   "metadata": {},
   "outputs": [
    {
     "name": "stdout",
     "output_type": "stream",
     "text": [
      "Средний чек транзакции до ограничений: 28281.63\n",
      "Средний чек транзакции после ограничений: 22911.19\n"
     ]
    }
   ],
   "source": [
    "# фильтрация строк по периоду до и после введения ограничений\n",
    "df_before = df[df['date'] < '2020-03-11']\n",
    "df_after = df[df['date'] >= '2020-03-11']\n",
    "\n",
    "# расчет среднего чека транзакции до и после введения ограничений\n",
    "avg_before = round(df_before['revenue'].mean(), 2)\n",
    "avg_after = round(df_after['revenue'].mean(), 2)\n",
    "\n",
    "# вывод результатов\n",
    "print(f'Средний чек транзакции до ограничений: {avg_before}')\n",
    "print(f'Средний чек транзакции после ограничений: {avg_after}')"
   ]
  },
  {
   "cell_type": "code",
   "execution_count": 15,
   "id": "f63a91ec",
   "metadata": {},
   "outputs": [
    {
     "name": "stdout",
     "output_type": "stream",
     "text": [
      "Средний чек транзакции с промокодом до ограничений: 29146.23\n",
      "Средний чек транзакции с промокодом после ограничений: 25663.39\n",
      "Средний чек транзакции без промокода до ограничений: 26499.27\n",
      "Средний чек транзакции без промокода после ограничений: 21074.32\n"
     ]
    }
   ],
   "source": [
    "# разделение данных на транзакции с промокодом и без\n",
    "data_promo = df[df['promo_activated']== 'yes']\n",
    "data_no_promo = df[df['promo_activated'] == 'no']\n",
    "\n",
    "# расчет среднего чека транзакции до и после введения ограничений для каждой категории\n",
    "promo_avg_before = round(data_promo[data_promo['date'] < '2020-03-01']['revenue'].mean(), 2)\n",
    "promo_avg_after = round(data_promo[data_promo['date'] >= '2020-03-01']['revenue'].mean(), 2)\n",
    "no_promo_avg_before = round(data_no_promo[data_no_promo['date'] < '2020-03-01']['revenue'].mean(), 2)\n",
    "no_promo_avg_after = round(data_no_promo[data_no_promo['date'] >= '2020-03-01']['revenue'].mean(), 2)\n",
    "\n",
    "# вывод результатов\n",
    "print(f'Средний чек транзакции с промокодом до ограничений: {promo_avg_before}')\n",
    "print(f'Средний чек транзакции с промокодом после ограничений: {promo_avg_after}')\n",
    "print(f'Средний чек транзакции без промокода до ограничений: {no_promo_avg_before}')\n",
    "print(f'Средний чек транзакции без промокода после ограничений: {no_promo_avg_after}')"
   ]
  },
  {
   "cell_type": "markdown",
   "id": "41a0586a",
   "metadata": {},
   "source": [
    "###  Можно ли с уверенностью в 95% сказать, что CR (коэффициент конверсии в транзакцию) в выходные дни отличается от CR в будние дни?\n"
   ]
  },
  {
   "cell_type": "markdown",
   "id": "1966eac3",
   "metadata": {},
   "source": [
    "Помимо деления на выходные дни и рабочие, добавим праздничные дни."
   ]
  },
  {
   "cell_type": "code",
   "execution_count": 16,
   "id": "6abf0295",
   "metadata": {},
   "outputs": [],
   "source": [
    "# добавление столбца с днем недели\n",
    "df['weekday'] = pd.to_datetime(df['date']).dt.weekday"
   ]
  },
  {
   "cell_type": "code",
   "execution_count": 17,
   "id": "538828ff",
   "metadata": {},
   "outputs": [],
   "source": [
    "# добавление столбца с признаком праздничного дня\n",
    "holidays = ['2020-01-01', '2020-01-02', '2020-01-03', '2020-01-04', '2020-01-05', '2020-01-06', '2020-01-08',\n",
    "            '2020-01-07',\n",
    "            '2020-02-23', \n",
    "            '2020-03-08', \n",
    "            '2020-05-01', \n",
    "            '2020-05-09', \n",
    "            '2020-06-12', \n",
    "            '2020-11-04']\n",
    "df['holiday'] = np.where(df['date'].isin(holidays), 1, 0)"
   ]
  },
  {
   "cell_type": "code",
   "execution_count": 18,
   "id": "551fca3c",
   "metadata": {},
   "outputs": [],
   "source": [
    "# Выделение данных для выходных и будних дней\n",
    "weekend_data = df.query('weekday in [5,6] or holiday == 1')\n",
    "weekday_data = df.query('weekday not in [5,6] and holiday == 0')\n"
   ]
  },
  {
   "cell_type": "code",
   "execution_count": 19,
   "id": "0ca9b111",
   "metadata": {},
   "outputs": [],
   "source": [
    "# Рассчет коэффициента конверсии в транзакцию для каждого набора данных\n",
    "weekend_cr = weekend_data['transactions'].sum() / weekend_data['visits'].sum()\n",
    "weekday_cr = weekday_data['transactions'].sum() / weekday_data['visits'].sum()"
   ]
  },
  {
   "cell_type": "code",
   "execution_count": 20,
   "id": "cca21700",
   "metadata": {},
   "outputs": [
    {
     "data": {
      "text/plain": [
       "0.15141071434750064"
      ]
     },
     "execution_count": 20,
     "metadata": {},
     "output_type": "execute_result"
    }
   ],
   "source": [
    "weekday_cr"
   ]
  },
  {
   "cell_type": "code",
   "execution_count": 21,
   "id": "3f7250a5",
   "metadata": {},
   "outputs": [
    {
     "data": {
      "text/plain": [
       "0.17009975396360283"
      ]
     },
     "execution_count": 21,
     "metadata": {},
     "output_type": "execute_result"
    }
   ],
   "source": [
    "weekend_cr"
   ]
  },
  {
   "cell_type": "code",
   "execution_count": 22,
   "id": "25afeb09",
   "metadata": {},
   "outputs": [],
   "source": [
    "# Вычисление стандартного отклонения и стандартной ошибки для каждого CR\n",
    "weekday_std = weekday_data['transactions'].std() / weekday_data['visits'].count() ** 0.5\n",
    "weekend_std = weekend_data['transactions'].std() / weekend_data['visits'].count() ** 0.5\n"
   ]
  },
  {
   "cell_type": "markdown",
   "id": "58cb63e0",
   "metadata": {},
   "source": [
    "Хоть многие и не любят т-тест, но более \"надежные\" методы, например, как bootstrap достаточно энергозатратен и не всегла есть смысл его использовать"
   ]
  },
  {
   "cell_type": "code",
   "execution_count": 23,
   "id": "b1222f29",
   "metadata": {},
   "outputs": [],
   "source": [
    "# Применение двухвыборочного T-теста\n",
    "t, p = stats.ttest_ind_from_stats(weekday_cr, weekday_std, weekday_data['visits'].count(),\n",
    "                                  weekend_cr, weekend_std, weekend_data['visits'].count(), equal_var=False)"
   ]
  },
  {
   "cell_type": "code",
   "execution_count": 24,
   "id": "7fbcb0bf",
   "metadata": {},
   "outputs": [
    {
     "name": "stdout",
     "output_type": "stream",
     "text": [
      "Отличие CR в выходные дни со значением 1.0929124137834686e-06 статистически значимо\n"
     ]
    }
   ],
   "source": [
    "# Определение результата теста\n",
    "if p < 0.05:\n",
    "    print(f\"Отличие CR в выходные дни со значением {p} статистически значимо\")\n",
    "else:\n",
    "    print(f\"Отличие CR в выходные дни со значением {p} статистически не значимо\")"
   ]
  },
  {
   "cell_type": "markdown",
   "id": "90d3e2df",
   "metadata": {},
   "source": [
    "### Вам необходимо спрогнозировать объем дохода, полученного с пользователей, приведенных на сайт контекстной рекламой (medium = cpc) на полгода вперед.\n",
    "Опишите, как бы вы подошли к этой задаче и какие дополнительные данные вам\n",
    "понадобятся?"
   ]
  },
  {
   "cell_type": "markdown",
   "id": "4f256d9e",
   "metadata": {},
   "source": [
    "Предсказаниями я особо не занималась, но Боже храни гугл и chftGPT, да и эта тема интересна сама по себе.\n",
    "\n",
    "После гугления, пришла к выводу, что решения для этой задачи можно использовать линейную регрессию. \n",
    "\n",
    "Шаги, которые мы будем следовать, чтобы решить эту задачу:\n",
    "\n",
    "- Подготовить данные (EDA)\n",
    "- Обучить модель линейной регрессии\n",
    "- Оценить качество модели\n",
    "- Сделать прогноз на 6 месяцев вперед"
   ]
  },
  {
   "cell_type": "markdown",
   "id": "9f63ea01",
   "metadata": {},
   "source": [
    "Минимальный EDA мы уже провели. Теперь необходимо определить по каким признакам будем прогнозировать доход."
   ]
  },
  {
   "cell_type": "code",
   "execution_count": 25,
   "id": "003dcc5a",
   "metadata": {},
   "outputs": [],
   "source": [
    "# отберем только контекстную рекламу и удалим ненужные столбцы\n",
    "df_cpc = df.query('medium == \"cpc\"').drop(['medium', 'holiday', 'weekday'], axis=1)"
   ]
  },
  {
   "cell_type": "code",
   "execution_count": 35,
   "id": "2ff8c044",
   "metadata": {},
   "outputs": [
    {
     "data": {
      "image/png": "[encoded data removed]",
      "text/plain": [
       "<Figure size 640x480 with 1 Axes>"
      ]
     },
     "metadata": {},
     "output_type": "display_data"
    },
    {
     "data": {
      "image/png": "[encoded data removed]",
      "text/plain": [
       "<Figure size 640x480 with 2 Axes>"
      ]
     },
     "metadata": {},
     "output_type": "display_data"
    }
   ],
   "source": [
    "# распределение дохода по контекстной рекламе\n",
    "sns.histplot(data=df_cpc, x='revenue', kde=True)\n",
    "plt.title('Распределение доходов при контекстной рекламе')\n",
    "plt.show()\n",
    "\n",
    "# корреляционная матрица\n",
    "corr = df_cpc.corr()\n",
    "sns.heatmap(corr, annot=True, cmap='coolwarm')\n",
    "plt.title('Корелляционная матрица')\n",
    "plt.show()"
   ]
  },
  {
   "cell_type": "markdown",
   "id": "24f54fae",
   "metadata": {},
   "source": [
    "На первом графике, распределение скошено влево, видим большое значение нулевых значений, поэтому это нужно иметь ввиду при выборе метода. На втором графике, наблюдается сильная корреляция между pageviews, productClick, addToCart, checkout, transactions. Собственно, с признаками определились."
   ]
  },
  {
   "cell_type": "markdown",
   "id": "c012f845",
   "metadata": {},
   "source": [
    "Приступаем к построению модели. Для этого необходимо разделить данные на обучающую и тестовую выборки, выбрать и обучить модель на обучающей выборке, а затем оценить ее качество на тестовой выборке."
   ]
  },
  {
   "cell_type": "code",
   "execution_count": 27,
   "id": "5fb5b86a",
   "metadata": {},
   "outputs": [],
   "source": [
    "# Удаляем ненужных признаков\n",
    "df_cpc = df_cpc.drop(['date', 'source', 'delivery_available', 'device_type', 'promo_activated', 'filter_used', 'visits'], axis=1)\n"
   ]
  },
  {
   "cell_type": "code",
   "execution_count": 28,
   "id": "79adc95a",
   "metadata": {},
   "outputs": [
    {
     "data": {
      "text/html": [
       "<div>\n",
       "<style scoped>\n",
       "    .dataframe tbody tr th:only-of-type {\n",
       "        vertical-align: middle;\n",
       "    }\n",
       "\n",
       "    .dataframe tbody tr th {\n",
       "        vertical-align: top;\n",
       "    }\n",
       "\n",
       "    .dataframe thead th {\n",
       "        text-align: right;\n",
       "    }\n",
       "</style>\n",
       "<table border=\"1\" class=\"dataframe\">\n",
       "  <thead>\n",
       "    <tr style=\"text-align: right;\">\n",
       "      <th></th>\n",
       "      <th>pageviews</th>\n",
       "      <th>productClick</th>\n",
       "      <th>addToCart</th>\n",
       "      <th>checkout</th>\n",
       "      <th>transactions</th>\n",
       "      <th>revenue</th>\n",
       "    </tr>\n",
       "  </thead>\n",
       "  <tbody>\n",
       "    <tr>\n",
       "      <th>1</th>\n",
       "      <td>3302</td>\n",
       "      <td>9930</td>\n",
       "      <td>1984</td>\n",
       "      <td>1416</td>\n",
       "      <td>217</td>\n",
       "      <td>244478.0</td>\n",
       "    </tr>\n",
       "    <tr>\n",
       "      <th>2</th>\n",
       "      <td>2970</td>\n",
       "      <td>5460</td>\n",
       "      <td>1090</td>\n",
       "      <td>599</td>\n",
       "      <td>100</td>\n",
       "      <td>105150.0</td>\n",
       "    </tr>\n",
       "    <tr>\n",
       "      <th>3</th>\n",
       "      <td>1875</td>\n",
       "      <td>4250</td>\n",
       "      <td>848</td>\n",
       "      <td>407</td>\n",
       "      <td>71</td>\n",
       "      <td>79003.0</td>\n",
       "    </tr>\n",
       "  </tbody>\n",
       "</table>\n",
       "</div>"
      ],
      "text/plain": [
       "   pageviews  productClick  addToCart  checkout  transactions   revenue\n",
       "1       3302          9930       1984      1416           217  244478.0\n",
       "2       2970          5460       1090       599           100  105150.0\n",
       "3       1875          4250        848       407            71   79003.0"
      ]
     },
     "execution_count": 28,
     "metadata": {},
     "output_type": "execute_result"
    }
   ],
   "source": [
    "df_cpc[:3]"
   ]
  },
  {
   "cell_type": "code",
   "execution_count": 29,
   "id": "a502637c",
   "metadata": {},
   "outputs": [],
   "source": [
    "from sklearn.linear_model import LinearRegression\n",
    "from sklearn.metrics import mean_squared_error, r2_score\n",
    "from sklearn.model_selection import train_test_split"
   ]
  },
  {
   "cell_type": "code",
   "execution_count": 30,
   "id": "a0a2e37f",
   "metadata": {},
   "outputs": [],
   "source": [
    "# Разбиение данных на обучающую и тестовую выборки\n",
    "X = df_cpc.drop(['revenue'], axis=1)\n",
    "y = df_cpc['revenue']\n",
    "X_train, X_test, y_train, y_test = train_test_split(X, y, test_size=0.2, random_state=42)"
   ]
  },
  {
   "cell_type": "code",
   "execution_count": 31,
   "id": "00ebea1a",
   "metadata": {},
   "outputs": [],
   "source": [
    "# Обучение модели линейной регрессии\n",
    "reg = LinearRegression().fit(X_train, y_train)"
   ]
  },
  {
   "cell_type": "code",
   "execution_count": 32,
   "id": "703aaf9a",
   "metadata": {},
   "outputs": [],
   "source": [
    "# Прогнозирование дохода на тестовой выборке\n",
    "y_pred = reg.predict(X_test)"
   ]
  },
  {
   "cell_type": "code",
   "execution_count": 33,
   "id": "fce35f48",
   "metadata": {},
   "outputs": [
    {
     "name": "stdout",
     "output_type": "stream",
     "text": [
      "Mean squared error: 125162571.42\n",
      "Coefficient of determination: 0.96\n"
     ]
    }
   ],
   "source": [
    "# Оценка качества прогнозов\n",
    "print('Mean squared error: %.2f'\n",
    "      % mean_squared_error(y_test, y_pred))\n",
    "print('Coefficient of determination: %.2f'\n",
    "      % r2_score(y_test, y_pred))"
   ]
  },
  {
   "cell_type": "markdown",
   "id": "8e78ea8a",
   "metadata": {},
   "source": [
    "Значение коэффициента детерминации 0.96 говорит о том, что модель хорошо описывает зависимости между признаками и целевой переменной, а значение среднеквадратической ошибки 125162571.42, что как бы очень много. Это явно связано с тем, что в данных что-то было не учтено, скорее всего выбросы, так как много было 0 значений.\n",
    "\n",
    "В общем, будет чем заняться на выходных."
   ]
  },
  {
   "cell_type": "markdown",
   "id": "d953af26",
   "metadata": {},
   "source": [
    "Теперь нужно спрогнрзировать на полгода вперед. На этом этапе я погрязла, поэтому похоже не успею сделать к дедлайну :("
   ]
  },
  {
   "cell_type": "code",
   "execution_count": null,
   "id": "4379f119",
   "metadata": {},
   "outputs": [],
   "source": []
  }
 ],
 "metadata": {
  "kernelspec": {
   "display_name": "Python 3 (ipykernel)",
   "language": "python",
   "name": "python3"
  },
  "language_info": {
   "codemirror_mode": {
    "name": "ipython",
    "version": 3
   },
   "file_extension": ".py",
   "mimetype": "text/x-python",
   "name": "python",
   "nbconvert_exporter": "python",
   "pygments_lexer": "ipython3",
   "version": "3.9.13"
  }
 },
 "nbformat": 4,
 "nbformat_minor": 5
}
